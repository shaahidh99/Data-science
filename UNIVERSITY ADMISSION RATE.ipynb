{
 "cells": [
  {
   "cell_type": "markdown",
   "id": "1a0b2cd9",
   "metadata": {},
   "source": [
    "# PREDICT THE CHANCES OF GETTING AN ADMISSION"
   ]
  },
  {
   "cell_type": "code",
   "execution_count": null,
   "id": "1f44bc97",
   "metadata": {},
   "outputs": [],
   "source": [
    "import pandas as pd\n",
    "import numpy as np\n",
    "from sklearn.preprocessing import StandardScaler\n",
    "from sklearn.linear_model import LinearRegression\n",
    "from sklearn.model_selection import train_test_split\n",
    "import statsmodels.api as sm\n",
    "import matplotlib.pyplot as plt\n",
    "import seaborn as sns\n",
    "import pickle \n"
   ]
  },
  {
   "cell_type": "code",
   "execution_count": null,
   "id": "e2ad0f98",
   "metadata": {},
   "outputs": [],
   "source": [
    "df = pd.read_csv('./Files-main/Admission_Prediction.csv')\n",
    "df.head()"
   ]
  },
  {
   "cell_type": "markdown",
   "id": "22609d7c",
   "metadata": {},
   "source": [
    "understanding data at a higher level"
   ]
  },
  {
   "cell_type": "code",
   "execution_count": null,
   "id": "a8304827",
   "metadata": {},
   "outputs": [],
   "source": [
    "df.describe()"
   ]
  },
  {
   "cell_type": "markdown",
   "id": "62386c7f",
   "metadata": {},
   "source": [
    "taking care of Nan values"
   ]
  },
  {
   "cell_type": "code",
   "execution_count": null,
   "id": "4dad6dd9",
   "metadata": {},
   "outputs": [],
   "source": [
    "df['University Rating'] = df['University Rating'].fillna(df['University Rating'].mode()[0])#mode is used since uni ranking is categorical data\n",
    "\n",
    "df['TOEFL Score']=df['TOEFL Score'].fillna(df['TOEFL Score'].mean())\n",
    "\n",
    "df['GRE Score']=df['GRE Score'].fillna(df['GRE Score'].mean())"
   ]
  },
  {
   "cell_type": "code",
   "execution_count": null,
   "id": "50ccdfab",
   "metadata": {},
   "outputs": [],
   "source": [
    "df.describe()"
   ]
  },
  {
   "cell_type": "markdown",
   "id": "6fe9e7c5",
   "metadata": {},
   "source": [
    "dropping unwanted columns"
   ]
  },
  {
   "cell_type": "code",
   "execution_count": null,
   "id": "b5d4e5ce",
   "metadata": {},
   "outputs": [],
   "source": [
    "df.drop(columns=['Serial No.'], inplace=True)\n",
    "#using inplace= True will save the changes made to the dataset"
   ]
  },
  {
   "cell_type": "code",
   "execution_count": null,
   "id": "a3939202",
   "metadata": {},
   "outputs": [],
   "source": [
    "df.head()"
   ]
  },
  {
   "cell_type": "code",
   "execution_count": null,
   "id": "f7e0e620",
   "metadata": {},
   "outputs": [],
   "source": [
    "import warnings\n",
    "warnings.filterwarnings(\"ignore\")"
   ]
  },
  {
   "cell_type": "markdown",
   "id": "58e7e905",
   "metadata": {},
   "source": [
    "visualizing the data "
   ]
  },
  {
   "cell_type": "code",
   "execution_count": null,
   "id": "5359529d",
   "metadata": {},
   "outputs": [],
   "source": [
    "plt.figure(figsize=(20,20),facecolor='white')\n",
    "plotnumber = 1\n",
    "for column in df:\n",
    "    if plotnumber<=8:\n",
    "        ax= plt.subplot(2,4,plotnumber)\n",
    "        sns.distplot(df[column])\n",
    "        plt.xlabel(column,fontsize=20)\n",
    "    plotnumber += 1\n",
    "plt.tight_layout()"
   ]
  },
  {
   "cell_type": "markdown",
   "id": "0982d009",
   "metadata": {},
   "source": [
    "the data distribution looks good and there aren't any skewered distribution.\n",
    "now to observe the relationship between independent variables and dependent variable"
   ]
  },
  {
   "cell_type": "code",
   "execution_count": null,
   "id": "4e086a54",
   "metadata": {},
   "outputs": [],
   "source": [
    "#divide the data set into feature and label\n",
    "#y is label\n",
    "y= df['Chance of Admit']\n",
    "#x is feature\n",
    "x= df.drop(columns=['Chance of Admit'])"
   ]
  },
  {
   "cell_type": "code",
   "execution_count": null,
   "id": "42c9a0d0",
   "metadata": {},
   "outputs": [],
   "source": [
    "y"
   ]
  },
  {
   "cell_type": "code",
   "execution_count": null,
   "id": "bc1f4e1c",
   "metadata": {},
   "outputs": [],
   "source": [
    "x"
   ]
  },
  {
   "cell_type": "code",
   "execution_count": null,
   "id": "30eadf87",
   "metadata": {},
   "outputs": [],
   "source": [
    "plt.figure(figsize=(20,35),facecolor='white')\n",
    "plotnumber= 1\n",
    "for column in x:\n",
    "    if plotnumber<=8:\n",
    "        ax=plt.subplot(4,2,plotnumber)\n",
    "        plt.scatter(x[column],y)\n",
    "        plt.xlabel(column,fontsize=20)\n",
    "        plt.ylabel('Chance of Admit',fontsize=20)\n",
    "    plotnumber+=1\n",
    "plt.tight_layout()"
   ]
  },
  {
   "cell_type": "markdown",
   "id": "f2c10208",
   "metadata": {},
   "source": [
    "data scaling"
   ]
  },
  {
   "cell_type": "code",
   "execution_count": null,
   "id": "b62b0a05",
   "metadata": {},
   "outputs": [],
   "source": [
    "scaler = StandardScaler()\n",
    "x_scaled= scaler.fit_transform(x)"
   ]
  },
  {
   "cell_type": "markdown",
   "id": "379d262f",
   "metadata": {},
   "source": [
    "split the data to train and test"
   ]
  },
  {
   "cell_type": "code",
   "execution_count": null,
   "id": "862e6165",
   "metadata": {},
   "outputs": [],
   "source": [
    "x_train,x_test,y_train,y_test= train_test_split(x_scaled,y,test_size=0.25,random_state=2435324)\n",
    "y_train.head()"
   ]
  },
  {
   "cell_type": "markdown",
   "id": "a99e1cd0",
   "metadata": {},
   "source": [
    "model instantiating and training"
   ]
  },
  {
   "cell_type": "code",
   "execution_count": null,
   "id": "d6a56dae",
   "metadata": {},
   "outputs": [],
   "source": [
    "regression = LinearRegression()\n",
    "regression.fit(x_train,y_train)"
   ]
  },
  {
   "cell_type": "markdown",
   "id": "26961922",
   "metadata": {},
   "source": [
    "predicting the chance of admission with the given features"
   ]
  },
  {
   "cell_type": "code",
   "execution_count": null,
   "id": "f14c3e32",
   "metadata": {},
   "outputs": [],
   "source": [
    "df.tail(2)"
   ]
  },
  {
   "cell_type": "code",
   "execution_count": null,
   "id": "eff0e926",
   "metadata": {},
   "outputs": [],
   "source": [
    "print('Chance of admission is: ',regression.predict(scaler.transform([[327.0,113.0,4.0,4.5,4.5,9.04,0]])))"
   ]
  },
  {
   "cell_type": "markdown",
   "id": "cebb3ea5",
   "metadata": {},
   "source": [
    "saviing the model"
   ]
  },
  {
   "cell_type": "code",
   "execution_count": null,
   "id": "29a11c79",
   "metadata": {},
   "outputs": [],
   "source": [
    "filename='admission_chance_model.pickle'\n",
    "pickle.dump(regression,open(filename,'wb'))\n",
    "loaded_model=pickle.load(open(filename,'rb'))\n",
    "a=loaded_model.predict(scaler.transform([[314,103,2,2,3,8.21,0]]))\n",
    "a"
   ]
  },
  {
   "cell_type": "markdown",
   "id": "ee2428bf",
   "metadata": {},
   "source": [
    "check how good is the model"
   ]
  },
  {
   "cell_type": "code",
   "execution_count": null,
   "id": "72b3dbba",
   "metadata": {},
   "outputs": [],
   "source": [
    "#adjusted R^2 score\n",
    "regression.score(x_train,y_train)"
   ]
  },
  {
   "cell_type": "markdown",
   "id": "44fb6183",
   "metadata": {},
   "source": [
    "check how well the model fits the test data"
   ]
  },
  {
   "cell_type": "code",
   "execution_count": null,
   "id": "87206b73",
   "metadata": {},
   "outputs": [],
   "source": [
    "regression.score(x_test,y_test)"
   ]
  },
  {
   "cell_type": "markdown",
   "id": "7ef1dd05",
   "metadata": {},
   "source": [
    "plotting and visualizing"
   ]
  },
  {
   "cell_type": "code",
   "execution_count": null,
   "id": "14f54099",
   "metadata": {},
   "outputs": [],
   "source": [
    "y_pred= regression.predict(x_test)"
   ]
  },
  {
   "cell_type": "code",
   "execution_count": null,
   "id": "9dfe87e1",
   "metadata": {},
   "outputs": [],
   "source": [
    "y_pred"
   ]
  },
  {
   "cell_type": "code",
   "execution_count": null,
   "id": "0a877a4e",
   "metadata": {},
   "outputs": [],
   "source": [
    "plt.scatter(y_test,y_pred)\n",
    "plt.xlabel('actual chance of admission')\n",
    "plt.ylabel('predicted chance of admission')\n",
    "plt.title('actual vs model predicted')\n",
    "plt.show"
   ]
  },
  {
   "cell_type": "markdown",
   "id": "99b45ee9",
   "metadata": {},
   "source": [
    "model evaluation"
   ]
  }
 ],
 "metadata": {
  "kernelspec": {
   "display_name": "Python 3",
   "language": "python",
   "name": "python3"
  },
  "language_info": {
   "codemirror_mode": {
    "name": "ipython",
    "version": 3
   },
   "file_extension": ".py",
   "mimetype": "text/x-python",
   "name": "python",
   "nbconvert_exporter": "python",
   "pygments_lexer": "ipython3",
   "version": "3.8.8"
  }
 },
 "nbformat": 4,
 "nbformat_minor": 5
}
